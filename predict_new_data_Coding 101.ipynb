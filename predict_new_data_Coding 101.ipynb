{
 "cells": [
  {
   "cell_type": "markdown",
   "id": "7d722a00-8010-4089-beef-4e4f6b9ad15c",
   "metadata": {},
   "source": [
    "## 新資料預測"
   ]
  },
  {
   "cell_type": "code",
   "execution_count": null,
   "id": "3f4e30b0-481e-4972-9a81-1b883006a427",
   "metadata": {},
   "outputs": [],
   "source": [
    "import pickle\n",
    "import joblib\n",
    "import pandas as pd\n",
    "from sklearn.preprocessing import StandardScaler\n",
    "import warnings\n",
    "warnings.filterwarnings('ignore')\n",
    "scaler = StandardScaler()\n",
    "#====================================================================\n",
    "#讀取110年資料集\n",
    "df_110 = pd.read_pickle(\"./new_data.pkl\")\n",
    "#====================================================================\n",
    "#讀取隨機森林模型\n",
    "model_file_name='./MU_TOWN_model_v0.1.pkl'\n",
    "with open(model_file_name, 'rb') as f:\n",
    "    random_forest_model = joblib.load(f)"
   ]
  },
  {
   "cell_type": "code",
   "execution_count": null,
   "id": "85ddbc9b-6a11-4e90-95e8-c7f773fb9786",
   "metadata": {},
   "outputs": [],
   "source": [
    "#建立新資料\n",
    "#兔年 30 此條件平均死文亡人數 男性 中部 \n",
    "p1 = [112,  11,   2.3,   1,0,   0, 0, 1, 0 , 0 ]\n",
    "#兔年 30 此條件平均死亡人數  女性 中部\n",
    "p2 = [112,  11,   1.7,   0,1,   0, 0, 1, 0, 0 ]\n",
    "new_test = pd.DataFrame([p1, p2], columns=['year', 'age_code', 'N', 'sex_1', 'sex_2', 'county_Fujian',\n",
    "       'county_east', 'county_middle', 'county_north', 'county_south'])\n",
    "new_test = df_110.append(new_test, ignore_index=True)\n",
    "input_new_data = scaler.fit_transform(new_test)\n",
    "output = random_forest_model.predict(input_new_data)[-2:]\n",
    "#神經系統疾病\t               9\n",
    "#內分泌、營養及新陳代謝疾病 \t 0"
   ]
  },
  {
   "cell_type": "code",
   "execution_count": null,
   "id": "91712e2a-0e84-4aaa-9216-4c0e79d04e02",
   "metadata": {},
   "outputs": [],
   "source": []
  }
 ],
 "metadata": {
  "kernelspec": {
   "display_name": "Python 3 (ipykernel)",
   "language": "python",
   "name": "python3"
  },
  "language_info": {
   "codemirror_mode": {
    "name": "ipython",
    "version": 3
   },
   "file_extension": ".py",
   "mimetype": "text/x-python",
   "name": "python",
   "nbconvert_exporter": "python",
   "pygments_lexer": "ipython3",
   "version": "3.9.12"
  }
 },
 "nbformat": 4,
 "nbformat_minor": 5
}
