{
 "cells": [
  {
   "cell_type": "markdown",
   "id": "d3f2afea-81e1-4c80-a601-218e50943f66",
   "metadata": {},
   "source": [
    "## 讀取衛生福利部各年份合併後(97年 ~ 110年)資料\n",
    "## 死因統計(136分類)-縣市五齡.zip\n",
    "https://dep.mohw.gov.tw/DOS/cp-2519-3480-113.html"
   ]
  },
  {
   "cell_type": "code",
   "execution_count": 1,
   "id": "027f114c-3a01-4967-bb63-2549a17d8227",
   "metadata": {},
   "outputs": [
    {
     "name": "stdout",
     "output_type": "stream",
     "text": [
      "<class 'pandas.core.frame.DataFrame'>\n",
      "RangeIndex: 330683 entries, 0 to 330682\n",
      "Data columns (total 7 columns):\n",
      " #   Column               Non-Null Count   Dtype \n",
      "---  ------               --------------   ----- \n",
      " 0   year                 330683 non-null  int64 \n",
      " 1   county               330683 non-null  object\n",
      " 2   cause                330683 non-null  int64 \n",
      " 3   cause_main_category  330683 non-null  object\n",
      " 4   sex                  330683 non-null  int64 \n",
      " 5   age_code             330683 non-null  int64 \n",
      " 6   N                    330683 non-null  int64 \n",
      "dtypes: int64(5), object(2)\n",
      "memory usage: 17.7+ MB\n"
     ]
    }
   ],
   "source": [
    "import pandas as pd\n",
    "df = pd.read_csv('./dataset/死因統計_136分類_100-110_大分類.csv', dtype = {'county': 'str'})\n",
    "df.rename(columns = {'cuase_main_category':'cause_main_category'}, inplace = True)\n",
    "df.drop(['Unnamed: 0'], axis = 1, inplace = True)\n",
    "df.info()"
   ]
  },
  {
   "cell_type": "code",
   "execution_count": 2,
   "id": "8b7f0c92-b520-46e6-a79d-349b6d2e869c",
   "metadata": {},
   "outputs": [],
   "source": [
    "## EDA 觀察資料分析\n",
    "# cause_select = ['症狀、徵候與他處未歸類之異常臨床及實驗室發現', '妊娠(懷孕)、生產及產褥期'\n",
    "#                 , '源於周產期的特定病況', '先天性畸形、變形及染色體異常', '嚴重特殊傳染性肺炎（COVID-19）']\n",
    "# df_cause_tmp= df[~df['cause_main_category'].isin(cause_select)]\n",
    "\n",
    "# tmp_1 = df_cause_tmp[df_cause_tmp['cause_main_category'] == '呼吸系統疾病']\n",
    "\n",
    "# tmp_1 = pd.crosstab(index=tmp_1['county'], columns=tmp_1['cause_main_category'], normalize=True)  *100\n",
    "# #tmp.to_excel('country_to_cause.xlsx')\n",
    "\n",
    "# tmp_1.sort_values('呼吸系統疾病', ascending=False)\n",
    "#37\t5.600590 彰化縣\n",
    "#43\t5.510522 屏東縣"
   ]
  },
  {
   "cell_type": "code",
   "execution_count": 3,
   "id": "bf4a8cdc-6af2-4db7-80e1-3bbd92deeec1",
   "metadata": {},
   "outputs": [],
   "source": [
    "#print(df.query(\"age_code == 11  &  county_middle == 1  &  sex_1 == 1\")['N'].mean())"
   ]
  },
  {
   "cell_type": "code",
   "execution_count": 4,
   "id": "988cdcdc-fb37-49a0-931c-94f22505386e",
   "metadata": {},
   "outputs": [],
   "source": [
    "########################################################\n",
    "## https://www.ndc.gov.tw/Content_List.aspx?n=32630C8F2494504D\n",
    "##縣市代碼轉換為 北中南東離島\n",
    "# 北部區域：包括臺北市、新北市、基隆市、新竹市、桃園市、新竹縣及宜蘭縣。\n",
    "# #01、31、11、12、32、33、34\n",
    "\n",
    "# 中部區域：包括臺中市、苗栗縣、彰化縣、南投縣及雲林縣。\n",
    "# #03 35 37 38 39\n",
    "\n",
    "# 南部區域：包括高雄市、臺南市、嘉義市、嘉義縣、屏東縣及澎湖縣。\n",
    "# #07 05 22 40  43 44\n",
    "\n",
    "# 東部區域：包括花蓮縣及臺東縣。\n",
    "# #45 46\n",
    "\n",
    "# 福建省：包括金門縣與連江縣。\n",
    "# #90 91"
   ]
  },
  {
   "cell_type": "markdown",
   "id": "b71d6188-3385-4526-8900-39bb91f2b577",
   "metadata": {},
   "source": [
    "## 110年 資料預前處理，準備測試新資料"
   ]
  },
  {
   "cell_type": "code",
   "execution_count": 5,
   "id": "9bdbb6c3-f7c4-4767-aa41-c65d43b250bf",
   "metadata": {
    "tags": []
   },
   "outputs": [
    {
     "name": "stdout",
     "output_type": "stream",
     "text": [
      "north     11179\n",
      "south      8818\n",
      "middle     8056\n",
      "east       2109\n",
      "Fujian      530\n",
      "Name: county, dtype: int64\n",
      "年齡編碼轉換前 [ 1  2  3  4  5  6  7  8  9 10 11 12 13 14 15 16 17 18 19 20 21 22 23 24\n",
      " 25 26]\n",
      "年齡編碼轉換後 [ 0  1  2  3  4  5  6  7  8  9 10 11 12 13 14 15 16 17 18 19 20 21 22 23\n",
      " 24 25]\n",
      "15\n",
      "29391\n",
      "29391\n"
     ]
    }
   ],
   "source": [
    "from sklearn.preprocessing import LabelEncoder\n",
    "import numpy as np\n",
    "from sklearn.preprocessing import StandardScaler\n",
    "\n",
    "df_110 = df[df['year'] == 110]\n",
    "df_110 = df_110.copy()\n",
    "country_area = {\n",
    "'01':'north','31':'north','11':'north','12':'north','32':'north','33':'north','34':'north',\n",
    "'03':'middle','35':'middle','37':'middle','38':'middle', '39':'middle',\n",
    "'07':'south', '05':'south', '22':'south', '40':'south',  '43':'south', '44':'south',\n",
    "'45':'east','46':'east','90':'Fujian','91':'Fujian'   \n",
    "}\n",
    "df_110.loc[:, 'county'] = df_110['county'].map(country_area)\n",
    "#df_110['county'] = df_110['county'].map(country_area)\n",
    "print(df_110['county'].value_counts())\n",
    "##====================================================================\n",
    "#條件篩選\n",
    "#保留腫瘤疾病，移除'症狀、徵候與他處未歸類之異常臨床及實驗室發現', '妊娠(懷孕)、生產及產褥期', '源於周產期的特定病況', '先天性畸形、變形及染色體異常'\n",
    "cause_select = ['症狀、徵候與他處未歸類之異常臨床及實驗室發現', '妊娠(懷孕)、生產及產褥期'\n",
    "                , '源於周產期的特定病況', '先天性畸形、變形及染色體異常', '嚴重特殊傳染性肺炎（COVID-19）']\n",
    "df_110 = df_110[~df_110['cause_main_category'].isin(cause_select)]\n",
    "#====================================================================\n",
    "# label encoding\n",
    "le = LabelEncoder()\n",
    "y_110 = df_110['cause_main_category']\n",
    "y_110 = le.fit_transform(y_110)\n",
    "#print(len(y))\n",
    "cause_chinese_110 = pd.DataFrame(le.inverse_transform(y_110))\n",
    "#print(len(y))\n",
    "#====================================================================\n",
    "#See the DataFrame\n",
    "df_110.drop(columns=['cause_main_category', 'cause'], inplace = True, axis = 1)\n",
    "print('年齡編碼轉換前',np.unique(df_110['age_code']))\n",
    "df_110['age_code'] = le.fit_transform(df_110['age_code'])\n",
    "#df_110.loc[:, 'cause_main_category'] = y_110\n",
    "df_110['cause_main_category'] = y_110\n",
    "print('年齡編碼轉換後',np.unique(le.fit_transform(df_110['age_code'])))\n",
    "#====================================================================\n",
    "#dummy\n",
    "df_110 = pd.get_dummies(df_110, columns =['sex', 'county'] )\n",
    "#====================================================================\n",
    "#df_110\n",
    "print(len(df_110['cause_main_category'].value_counts()))\n",
    "#====================================================================\n",
    "scaler = StandardScaler()\n",
    "y_test_110 = df_110['cause_main_category']\n",
    "df_110.drop(columns=['cause_main_category'], inplace = True, axis = 1)\n",
    "df_110_test = scaler.fit_transform(df_110)\n",
    "\n",
    "print(len(df_110_test))\n",
    "print(len(y_test_110))"
   ]
  },
  {
   "cell_type": "code",
   "execution_count": 6,
   "id": "18645324-9bea-446b-8d68-b91793486123",
   "metadata": {},
   "outputs": [
    {
     "name": "stdout",
     "output_type": "stream",
     "text": [
      "25967\n",
      "CPU times: total: 15.3 s\n",
      "Wall time: 15.5 s\n"
     ]
    }
   ],
   "source": [
    "%%time\n",
    "from imblearn.combine import SMOTEENN\n",
    "sme = SMOTEENN(random_state=42)\n",
    "df_110_test, y_test_110 = sme.fit_resample(df_110_test, y_test_110)\n",
    "print(len(df_110_test))"
   ]
  },
  {
   "cell_type": "code",
   "execution_count": 7,
   "id": "06ef6ade-5c2d-4748-a6f7-97a36dca0850",
   "metadata": {},
   "outputs": [
    {
     "data": {
      "text/html": [
       "<div>\n",
       "<style scoped>\n",
       "    .dataframe tbody tr th:only-of-type {\n",
       "        vertical-align: middle;\n",
       "    }\n",
       "\n",
       "    .dataframe tbody tr th {\n",
       "        vertical-align: top;\n",
       "    }\n",
       "\n",
       "    .dataframe thead th {\n",
       "        text-align: right;\n",
       "    }\n",
       "</style>\n",
       "<table border=\"1\" class=\"dataframe\">\n",
       "  <thead>\n",
       "    <tr style=\"text-align: right;\">\n",
       "      <th></th>\n",
       "      <th>cause</th>\n",
       "      <th>cause_code</th>\n",
       "    </tr>\n",
       "  </thead>\n",
       "  <tbody>\n",
       "    <tr>\n",
       "      <th>0</th>\n",
       "      <td>內分泌、營養及新陳代謝疾病</td>\n",
       "      <td>0</td>\n",
       "    </tr>\n",
       "    <tr>\n",
       "      <th>1</th>\n",
       "      <td>呼吸系統疾病</td>\n",
       "      <td>1</td>\n",
       "    </tr>\n",
       "    <tr>\n",
       "      <th>2</th>\n",
       "      <td>導致罹病或致死之外因</td>\n",
       "      <td>2</td>\n",
       "    </tr>\n",
       "    <tr>\n",
       "      <th>3</th>\n",
       "      <td>循環系統疾病</td>\n",
       "      <td>3</td>\n",
       "    </tr>\n",
       "    <tr>\n",
       "      <th>4</th>\n",
       "      <td>泌尿生殖系統疾病</td>\n",
       "      <td>4</td>\n",
       "    </tr>\n",
       "    <tr>\n",
       "      <th>5</th>\n",
       "      <td>消化系統疾病</td>\n",
       "      <td>5</td>\n",
       "    </tr>\n",
       "    <tr>\n",
       "      <th>6</th>\n",
       "      <td>特定感染症及寄生蟲疾病</td>\n",
       "      <td>6</td>\n",
       "    </tr>\n",
       "    <tr>\n",
       "      <th>7</th>\n",
       "      <td>皮膚及皮下組織疾病</td>\n",
       "      <td>7</td>\n",
       "    </tr>\n",
       "    <tr>\n",
       "      <th>8</th>\n",
       "      <td>眼睛和附屬器官的疾病</td>\n",
       "      <td>8</td>\n",
       "    </tr>\n",
       "    <tr>\n",
       "      <th>9</th>\n",
       "      <td>神經系統疾病</td>\n",
       "      <td>9</td>\n",
       "    </tr>\n",
       "    <tr>\n",
       "      <th>10</th>\n",
       "      <td>精神與行為障礙</td>\n",
       "      <td>10</td>\n",
       "    </tr>\n",
       "    <tr>\n",
       "      <th>11</th>\n",
       "      <td>耳及乳突疾病</td>\n",
       "      <td>11</td>\n",
       "    </tr>\n",
       "    <tr>\n",
       "      <th>12</th>\n",
       "      <td>腫瘤</td>\n",
       "      <td>12</td>\n",
       "    </tr>\n",
       "    <tr>\n",
       "      <th>13</th>\n",
       "      <td>血液和造血器官及涉及免疫機轉的特定疾患</td>\n",
       "      <td>13</td>\n",
       "    </tr>\n",
       "    <tr>\n",
       "      <th>14</th>\n",
       "      <td>骨骼肌肉系統及結締組織疾病</td>\n",
       "      <td>14</td>\n",
       "    </tr>\n",
       "  </tbody>\n",
       "</table>\n",
       "</div>"
      ],
      "text/plain": [
       "                  cause  cause_code\n",
       "0         內分泌、營養及新陳代謝疾病           0\n",
       "1                呼吸系統疾病           1\n",
       "2            導致罹病或致死之外因           2\n",
       "3                循環系統疾病           3\n",
       "4              泌尿生殖系統疾病           4\n",
       "5                消化系統疾病           5\n",
       "6           特定感染症及寄生蟲疾病           6\n",
       "7             皮膚及皮下組織疾病           7\n",
       "8            眼睛和附屬器官的疾病           8\n",
       "9                神經系統疾病           9\n",
       "10              精神與行為障礙          10\n",
       "11               耳及乳突疾病          11\n",
       "12                   腫瘤          12\n",
       "13  血液和造血器官及涉及免疫機轉的特定疾患          13\n",
       "14        骨骼肌肉系統及結締組織疾病          14"
      ]
     },
     "execution_count": 7,
     "metadata": {},
     "output_type": "execute_result"
    }
   ],
   "source": [
    "cause_code = pd.DataFrame(y_110)\n",
    "df_main_cause = pd.concat([cause_chinese_110,cause_code],axis =1).drop_duplicates()\n",
    "df_main_cause.columns = ['cause', 'cause_code']\n",
    "df_main_cause.sort_values(['cause_code'],ascending=True, inplace = True)\n",
    "df_main_cause.reset_index(drop=True, inplace= True)\n",
    "df_main_cause"
   ]
  },
  {
   "cell_type": "markdown",
   "id": "bcbeaba7-6e87-4e13-85d4-3eb7bbf1f716",
   "metadata": {},
   "source": [
    "##  100 ~ 109年 準備訓練資料"
   ]
  },
  {
   "cell_type": "code",
   "execution_count": 8,
   "id": "6e3538c0-a07c-4b30-b0dc-15dc4e99141f",
   "metadata": {},
   "outputs": [],
   "source": [
    "##排除110年\n",
    "df = df[df['year'] != 110]\n",
    "df = df.copy()"
   ]
  },
  {
   "cell_type": "code",
   "execution_count": 9,
   "id": "82d5c8f0-4ffa-476a-b77e-1ace3ccfbf20",
   "metadata": {},
   "outputs": [
    {
     "name": "stdout",
     "output_type": "stream",
     "text": [
      "年齡編碼轉換前 [ 1  2  3  4  5  6  7  8  9 10 11 12 13 14 15 16 17 18 19 20 21 22 23 24\n",
      " 25 26]\n",
      "年齡編碼轉換後 [ 0  1  2  3  4  5  6  7  8  9 10 11 12 13 14 15 16 17 18 19 20 21 22 23\n",
      " 24 25]\n"
     ]
    }
   ],
   "source": [
    "from sklearn.preprocessing import LabelEncoder\n",
    "import numpy as np\n",
    "##====================================================================\n",
    "#https://www.ndc.gov.tw/Content_List.aspx?n=32630C8F2494504D\n",
    "#國發會\n",
    "country_area = {\n",
    "'01':'north','31':'north','11':'north','12':'north','32':'north','33':'north','34':'north',\n",
    "'03':'middle','35':'middle','37':'middle','38':'middle','39':'middle',\n",
    "'07':'south', '05':'south', '22':'south', '40':'south',  '43':'south', '44':'south',\n",
    "'45':'east','46':'east','90':'Fujian','91':'Fujian'   \n",
    "}\n",
    "df['county'] = df['county'].map(country_area)\n",
    "##====================================================================\n",
    "#條件篩選\n",
    "#保留腫瘤疾病，移除'症狀、徵候與他處未歸類之異常臨床及實驗室發現', '妊娠(懷孕)、生產及產褥期', '源於周產期的特定病況', '先天性畸形、變形及染色體異常'\n",
    "cause_select = ['症狀、徵候與他處未歸類之異常臨床及實驗室發現', '妊娠(懷孕)、生產及產褥期'\n",
    "                , '源於周產期的特定病況', '先天性畸形、變形及染色體異常', '嚴重特殊傳染性肺炎（COVID-19）']\n",
    "df= df[~df['cause_main_category'].isin(cause_select)]\n",
    "#====================================================================\n",
    "#====================================================================\n",
    "# label encoding\n",
    "# y features\n",
    "le = LabelEncoder()\n",
    "y = df['cause_main_category']\n",
    "y = le.fit_transform(y)\n",
    "cause_chinese = pd.DataFrame(le.inverse_transform(y))  ##疾病轉換還原\n",
    "#====================================================================\n",
    "#X features\n",
    "#See the DataFrame\n",
    "print('年齡編碼轉換前',np.unique(df['age_code']))\n",
    "df['age_code'] = le.fit_transform(df['age_code'])\n",
    "print('年齡編碼轉換後',np.unique(le.fit_transform(df['age_code'])))\n",
    "#====================================================\n",
    "#X features\n",
    "#dummy\n",
    "df = pd.get_dummies(df, columns =['sex', 'county'] )\n",
    "#====================================================\n",
    "X = df\n",
    "df.drop(columns=['cause', 'cause_main_category'], inplace = True, axis = 1)"
   ]
  },
  {
   "cell_type": "code",
   "execution_count": 10,
   "id": "fba1a93f-32e7-4813-a3b9-c08623f9f891",
   "metadata": {},
   "outputs": [],
   "source": [
    "# %%time\n",
    "# from sklearn.feature_selection import mutual_info_classif\n",
    "# mi_scores = mutual_info_classif(X, y)\n",
    "# mi_scores = pd.Series(mi_scores, name=\"MI Scores\", index=X.columns)\n",
    "# mi_scores = mi_scores.sort_values(ascending=False)\n",
    "# mi_scores"
   ]
  },
  {
   "cell_type": "markdown",
   "id": "874be2f9-bc6f-4674-8d25-de8aedb1a6d0",
   "metadata": {},
   "source": [
    "## 訓練資料檢視"
   ]
  },
  {
   "cell_type": "code",
   "execution_count": 11,
   "id": "2b931957-1873-4d40-aebe-fcd6f467b6ad",
   "metadata": {},
   "outputs": [
    {
     "data": {
      "text/html": [
       "<div>\n",
       "<style scoped>\n",
       "    .dataframe tbody tr th:only-of-type {\n",
       "        vertical-align: middle;\n",
       "    }\n",
       "\n",
       "    .dataframe tbody tr th {\n",
       "        vertical-align: top;\n",
       "    }\n",
       "\n",
       "    .dataframe thead th {\n",
       "        text-align: right;\n",
       "    }\n",
       "</style>\n",
       "<table border=\"1\" class=\"dataframe\">\n",
       "  <thead>\n",
       "    <tr style=\"text-align: right;\">\n",
       "      <th></th>\n",
       "      <th>year</th>\n",
       "      <th>age_code</th>\n",
       "      <th>N</th>\n",
       "      <th>sex_1</th>\n",
       "      <th>sex_2</th>\n",
       "      <th>county_Fujian</th>\n",
       "      <th>county_east</th>\n",
       "      <th>county_middle</th>\n",
       "      <th>county_north</th>\n",
       "      <th>county_south</th>\n",
       "    </tr>\n",
       "  </thead>\n",
       "  <tbody>\n",
       "    <tr>\n",
       "      <th>0</th>\n",
       "      <td>100</td>\n",
       "      <td>17</td>\n",
       "      <td>1</td>\n",
       "      <td>1</td>\n",
       "      <td>0</td>\n",
       "      <td>0</td>\n",
       "      <td>0</td>\n",
       "      <td>0</td>\n",
       "      <td>1</td>\n",
       "      <td>0</td>\n",
       "    </tr>\n",
       "    <tr>\n",
       "      <th>1</th>\n",
       "      <td>100</td>\n",
       "      <td>20</td>\n",
       "      <td>2</td>\n",
       "      <td>1</td>\n",
       "      <td>0</td>\n",
       "      <td>0</td>\n",
       "      <td>0</td>\n",
       "      <td>0</td>\n",
       "      <td>1</td>\n",
       "      <td>0</td>\n",
       "    </tr>\n",
       "    <tr>\n",
       "      <th>2</th>\n",
       "      <td>100</td>\n",
       "      <td>21</td>\n",
       "      <td>1</td>\n",
       "      <td>1</td>\n",
       "      <td>0</td>\n",
       "      <td>0</td>\n",
       "      <td>0</td>\n",
       "      <td>0</td>\n",
       "      <td>1</td>\n",
       "      <td>0</td>\n",
       "    </tr>\n",
       "    <tr>\n",
       "      <th>3</th>\n",
       "      <td>100</td>\n",
       "      <td>21</td>\n",
       "      <td>3</td>\n",
       "      <td>0</td>\n",
       "      <td>1</td>\n",
       "      <td>0</td>\n",
       "      <td>0</td>\n",
       "      <td>0</td>\n",
       "      <td>1</td>\n",
       "      <td>0</td>\n",
       "    </tr>\n",
       "    <tr>\n",
       "      <th>4</th>\n",
       "      <td>100</td>\n",
       "      <td>22</td>\n",
       "      <td>1</td>\n",
       "      <td>0</td>\n",
       "      <td>1</td>\n",
       "      <td>0</td>\n",
       "      <td>0</td>\n",
       "      <td>0</td>\n",
       "      <td>1</td>\n",
       "      <td>0</td>\n",
       "    </tr>\n",
       "  </tbody>\n",
       "</table>\n",
       "</div>"
      ],
      "text/plain": [
       "   year  age_code  N  sex_1  sex_2  county_Fujian  county_east  county_middle  \\\n",
       "0   100        17  1      1      0              0            0              0   \n",
       "1   100        20  2      1      0              0            0              0   \n",
       "2   100        21  1      1      0              0            0              0   \n",
       "3   100        21  3      0      1              0            0              0   \n",
       "4   100        22  1      0      1              0            0              0   \n",
       "\n",
       "   county_north  county_south  \n",
       "0             1             0  \n",
       "1             1             0  \n",
       "2             1             0  \n",
       "3             1             0  \n",
       "4             1             0  "
      ]
     },
     "execution_count": 11,
     "metadata": {},
     "output_type": "execute_result"
    }
   ],
   "source": [
    "X.head()"
   ]
  },
  {
   "cell_type": "markdown",
   "id": "1eca7bf4-c0c2-435b-97dc-fac694e23bea",
   "metadata": {},
   "source": [
    "## 訓練資料-特徵縮放 StandardScaler (平均值和標準差)"
   ]
  },
  {
   "cell_type": "code",
   "execution_count": 12,
   "id": "d04eeaff-ee54-445d-b7b5-0755fdbd6e79",
   "metadata": {},
   "outputs": [
    {
     "name": "stdout",
     "output_type": "stream",
     "text": [
      "288696\n",
      "288696\n",
      "CPU times: total: 78.1 ms\n",
      "Wall time: 62.8 ms\n"
     ]
    }
   ],
   "source": [
    "%%time\n",
    "from sklearn.preprocessing import StandardScaler\n",
    "scaler = StandardScaler()\n",
    "X = scaler.fit_transform(X)\n",
    "print(len(X))\n",
    "print(len(y))"
   ]
  },
  {
   "cell_type": "markdown",
   "id": "3a43cabb-5a24-4afe-b05c-47cc1f730cfc",
   "metadata": {},
   "source": [
    "## 訓練資料 SMOTE + ENN"
   ]
  },
  {
   "cell_type": "code",
   "execution_count": 13,
   "id": "6758ac06-eca0-42b0-9263-252c989dd84d",
   "metadata": {},
   "outputs": [
    {
     "name": "stdout",
     "output_type": "stream",
     "text": [
      "266941\n",
      "CPU times: total: 10min 26s\n",
      "Wall time: 10min 27s\n"
     ]
    }
   ],
   "source": [
    "%%time\n",
    "#imbalanced Data 不平衡資料\n",
    "#X, y 資料預處理已完成\n",
    "from imblearn.combine import SMOTEENN\n",
    "sme = SMOTEENN(random_state=42)\n",
    "X, y = sme.fit_resample(X, y)\n",
    "print(len(X))"
   ]
  },
  {
   "cell_type": "markdown",
   "id": "5b2299d2-6586-4bbb-89d9-26d89c905bd9",
   "metadata": {},
   "source": [
    "## 建立模型並預測新資料(110年)"
   ]
  },
  {
   "cell_type": "code",
   "execution_count": 14,
   "id": "7598efe5-72ee-4a1c-aa94-2e65b7a73361",
   "metadata": {},
   "outputs": [
    {
     "name": "stdout",
     "output_type": "stream",
     "text": [
      "RandomForestClassifier model accuracy score: 0.4616\n",
      "              precision    recall  f1-score   support\n",
      "\n",
      "           0       0.59      0.47      0.53      1273\n",
      "           1       0.51      0.57      0.54       573\n",
      "           2       0.71      0.78      0.74       453\n",
      "           3       0.00      0.02      0.01        48\n",
      "           4       0.07      0.10      0.08       107\n",
      "           5       0.25      0.49      0.33        97\n",
      "           6       0.02      0.03      0.02       139\n",
      "           7       0.47      0.35      0.40      1975\n",
      "           8       0.19      0.73      0.30      2077\n",
      "           9       0.37      0.25      0.30       463\n",
      "          10       0.29      0.24      0.27      1329\n",
      "          11       0.89      0.52      0.66     14174\n",
      "          12       0.03      0.41      0.05       124\n",
      "          13       0.18      0.11      0.14      1315\n",
      "          14       0.37      0.26      0.31      1820\n",
      "\n",
      "    accuracy                           0.46     25967\n",
      "   macro avg       0.33      0.36      0.31     25967\n",
      "weighted avg       0.65      0.46      0.51     25967\n",
      "\n",
      "CPU times: total: 4min 58s\n",
      "Wall time: 56.2 s\n"
     ]
    }
   ],
   "source": [
    "%%time\n",
    "from sklearn.ensemble import RandomForestClassifier\n",
    "from sklearn.metrics import accuracy_score, classification_report\n",
    "rfc = RandomForestClassifier(n_estimators = 400 , oob_score=True, n_jobs= -1)                        \n",
    "                             \n",
    "rfc.fit(X , y)\n",
    "#rfc.fit(X, y)\n",
    "rfc_predict = rfc.predict(df_110_test) ##預測110年新資料\n",
    "print('RandomForestClassifier model accuracy score: {0:0.4f}'. format(accuracy_score(y_test_110, rfc_predict)))\n",
    "print(classification_report(rfc_predict,y_test_110))\n",
    "#RandomForestClassifier model accuracy score: 0.4382  97 ~ 109"
   ]
  },
  {
   "cell_type": "code",
   "execution_count": null,
   "id": "a9270dfd-a21c-4222-94ea-f049a888133f",
   "metadata": {},
   "outputs": [],
   "source": [
    "## 產製模型衡量報告\n",
    "print(classification_report(rfc_predict,y_test_100))"
   ]
  },
  {
   "cell_type": "markdown",
   "id": "fb9983ec-5e32-4a3a-9a33-268a0c95c1e2",
   "metadata": {},
   "source": [
    "## 儲存訓練完成之模型"
   ]
  },
  {
   "cell_type": "code",
   "execution_count": 15,
   "id": "ea6bab91-7cf9-4d55-b34a-aace6480a035",
   "metadata": {},
   "outputs": [
    {
     "data": {
      "text/plain": [
       "['MU_TOWN_model_v0.1.pkl']"
      ]
     },
     "execution_count": 15,
     "metadata": {},
     "output_type": "execute_result"
    }
   ],
   "source": [
    "import joblib\n",
    "joblib.dump(rfc, 'MU_TOWN_model_v0.1.pkl', compress=3)"
   ]
  },
  {
   "cell_type": "code",
   "execution_count": null,
   "id": "d838d0bd-e956-454f-8c8f-bd22eb6d2a97",
   "metadata": {},
   "outputs": [],
   "source": [
    "model_file_name='MU_TOWN_model_v0.1.pkl'\n",
    "with open(model_file_name, 'rb') as f:\n",
    "    random_forest = joblib.load(f)"
   ]
  },
  {
   "cell_type": "markdown",
   "id": "6e8d5682-9dbc-4666-8783-d1e73b0f57cb",
   "metadata": {},
   "source": [
    "## 隨機森林 - 衡量變數的重要程度"
   ]
  },
  {
   "cell_type": "code",
   "execution_count": 16,
   "id": "55ccd65f-7bb7-4152-927f-e575bd3df3c8",
   "metadata": {},
   "outputs": [
    {
     "name": "stdout",
     "output_type": "stream",
     "text": [
      "[0.25768383 0.37172647 0.2761537  0.01457505 0.01490395 0.00389948\n",
      " 0.01173768 0.01498212 0.01579272 0.018545  ]\n"
     ]
    }
   ],
   "source": [
    "importances = rfc.feature_importances_\n",
    "print(importances)\n",
    "# Sort the feature importance in descending order\n",
    "sorted_indices = np.argsort(importances)[::-1]"
   ]
  },
  {
   "cell_type": "code",
   "execution_count": 17,
   "id": "51262bc0-e1fc-4192-9e92-d37db5d7125d",
   "metadata": {},
   "outputs": [
    {
     "data": {
      "image/png": "[encoded data removed]",
      "text/plain": [
       "<Figure size 864x576 with 1 Axes>"
      ]
     },
     "metadata": {
      "needs_background": "light"
     },
     "output_type": "display_data"
    }
   ],
   "source": [
    "import seaborn as sns\n",
    "import matplotlib.pyplot as plt\n",
    "def plot_feature_importance(importance,names,model_type):\n",
    "    feature_importance = np.array(importance)\n",
    "    feature_names = np.array(names)\n",
    "    data={'feature_names':feature_names,'feature_importance':feature_importance}\n",
    "    fi_df = pd.DataFrame(data)\n",
    "    fi_df.sort_values(by=['feature_importance'], ascending=False,inplace=True)\n",
    "    plt.figure(figsize=(12,8))\n",
    "    sns.barplot(x=fi_df['feature_importance'], y=fi_df['feature_names'])\n",
    "    plt.title(model_type)\n",
    "    plt.xlabel('Feature Importance')\n",
    "    plt.ylabel('Feature Columns')\n",
    "importances = rfc.feature_importances_  ## The values of this array sum to 1\n",
    "plot_feature_importance(importances,df.columns,'Random Forest')"
   ]
  },
  {
   "cell_type": "markdown",
   "id": "b95f5004-fca7-46e7-b637-a28926d42c90",
   "metadata": {},
   "source": [
    "## 新資料預測  predict_new_data_Coding 101.ipynb"
   ]
  },
  {
   "cell_type": "code",
   "execution_count": null,
   "id": "13474bc0-52fc-4635-a2eb-04a90bdfa34b",
   "metadata": {},
   "outputs": [],
   "source": [
    "print(df.query(\"age_code == 11  &  county_middle == 1  &  sex_2 == 1\")['N'].mean())"
   ]
  },
  {
   "cell_type": "markdown",
   "id": "dac25e0e-a875-4fb0-a75f-c19debdf5a80",
   "metadata": {},
   "source": [
    "## 分類模型選擇"
   ]
  },
  {
   "cell_type": "code",
   "execution_count": null,
   "id": "34fa1875-eaa9-4683-b8cf-bab9914f7a1d",
   "metadata": {},
   "outputs": [],
   "source": [
    "# %%time\n",
    "# from sklearn.ensemble import RandomForestClassifier\n",
    "# from sklearn.linear_model import LogisticRegression\n",
    "# from sklearn.tree import DecisionTreeClassifier\n",
    "# from xgboost import XGBClassifier\n",
    "# from catboost import CatBoostClassifier\n",
    "# from sklearn.model_selection import cross_val_score\n",
    "# from sklearn.metrics import accuracy_score, classification_report\n",
    "# import pandas as pd\n",
    "\n",
    "# models = [\n",
    "#     LogisticRegression(),\n",
    "#     RandomForestClassifier(),\n",
    "#     DecisionTreeClassifier(),\n",
    "#     XGBClassifier(),\n",
    "#     CatBoostClassifier()\n",
    "    \n",
    "# ]\n",
    "# CV = 5\n",
    "# cv_df = pd.DataFrame(index=range(CV * len(models)))\n",
    "# entries = []\n",
    "# for model in models:\n",
    "#     model_name = model.__class__.__name__\n",
    "#     accuracies = cross_val_score(model,X_train, y_train, cv = CV, scoring='f1_weighted')\n",
    "#     for fold_idx, accuracy in enumerate(accuracies):\n",
    "#         entries.append((model_name, fold_idx, accuracy))\n",
    "# cv_df = pd.DataFrame(entries, columns=['model_name', 'fold_idx', 'accuracy'])"
   ]
  },
  {
   "cell_type": "code",
   "execution_count": null,
   "id": "eb3c2ac5-068b-4803-8ae5-cdf067357462",
   "metadata": {},
   "outputs": [],
   "source": [
    "# cv_df.groupby('model_name').accuracy.mean().to_frame().sort_values('accuracy',ascending = False)"
   ]
  },
  {
   "cell_type": "code",
   "execution_count": null,
   "id": "335120d3-35bd-41fc-a236-d12cd20e9fc7",
   "metadata": {},
   "outputs": [],
   "source": [
    "# import seaborn as sns\n",
    "# import matplotlib.pyplot as plt\n",
    "# fig, ax = plt.subplots(figsize=(15,5))\n",
    "# sns.boxplot(x='model_name', y='accuracy', data=cv_df)\n",
    "# sns.stripplot(x='model_name', y='accuracy', data=cv_df, \n",
    "#               size=10, jitter=True, edgecolor=\"gray\", linewidth=1, palette = 'coolwarm')\n",
    "# plt.show()\n",
    "# plt.savefig('books_read.png', bbox_inches='tight')"
   ]
  },
  {
   "cell_type": "code",
   "execution_count": null,
   "id": "88cdfb4c-ad12-40b4-acb7-465301bb74ec",
   "metadata": {},
   "outputs": [],
   "source": [
    "# fig, ax = plt.subplots(figsize=(15,5))\n",
    "# #sns.lineplot(data=cv_df, x='model_name', y='accuracy')\n",
    "\n",
    "# sns.lineplot(x=\"fold_idx\", y=\"accuracy\",\n",
    "#              hue=\"model_name\",\n",
    "#              data=cv_df)"
   ]
  }
 ],
 "metadata": {
  "kernelspec": {
   "display_name": "Python 3 (ipykernel)",
   "language": "python",
   "name": "python3"
  },
  "language_info": {
   "codemirror_mode": {
    "name": "ipython",
    "version": 3
   },
   "file_extension": ".py",
   "mimetype": "text/x-python",
   "name": "python",
   "nbconvert_exporter": "python",
   "pygments_lexer": "ipython3",
   "version": "3.9.12"
  }
 },
 "nbformat": 4,
 "nbformat_minor": 5
}
